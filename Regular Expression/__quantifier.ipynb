{
 "cells": [
  {
   "cell_type": "code",
   "execution_count": 1,
   "metadata": {
    "collapsed": true
   },
   "outputs": [],
   "source": [
    "import re"
   ]
  },
  {
   "cell_type": "code",
   "execution_count": 17,
   "outputs": [
    {
     "name": "stdout",
     "output_type": "stream",
     "text": [
      "['colorr', 'colorr', 'colour.']\n"
     ]
    }
   ],
   "source": [
    "# quantifying pattern\n",
    "text = \"My favorite colorr is gray, Hex colorrrrrr code is #80808 colour.\"\n",
    "pattern = r'colou?r{1,2}\\.*'\n",
    "#`*` r exist with or not exist but works\n",
    "# `+` minimum one `r` must exist\n",
    "# `r{3}` maximum r can get.\n",
    "match = re.findall(pattern, text)\n",
    "print(match)"
   ],
   "metadata": {
    "collapsed": false
   }
  },
  {
   "cell_type": "code",
   "execution_count": null,
   "outputs": [],
   "source": [
    "# `+` minimum one must exist, maximum depend on matching string size.\n",
    "# `*` no need exist, but maximum depends on matching pattern size."
   ],
   "metadata": {
    "collapsed": false
   }
  }
 ],
 "metadata": {
  "kernelspec": {
   "name": "venv",
   "language": "python",
   "display_name": "venv"
  },
  "language_info": {
   "codemirror_mode": {
    "name": "ipython",
    "version": 2
   },
   "file_extension": ".py",
   "mimetype": "text/x-python",
   "name": "python",
   "nbconvert_exporter": "python",
   "pygments_lexer": "ipython2",
   "version": "2.7.6"
  }
 },
 "nbformat": 4,
 "nbformat_minor": 0
}
