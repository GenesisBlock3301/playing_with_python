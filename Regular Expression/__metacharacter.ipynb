{
 "cells": [
  {
   "cell_type": "code",
   "execution_count": 1,
   "metadata": {
    "collapsed": true
   },
   "outputs": [],
   "source": [
    "import re"
   ]
  },
  {
   "cell_type": "code",
   "execution_count": 59,
   "outputs": [
    {
     "name": "stdout",
     "output_type": "stream",
     "text": [
      "quick\n"
     ]
    }
   ],
   "source": [
    "# `.` dot matches any character except newline('\\n')\n",
    "text = \"The quick brown fox jump over the lazy dog\"\n",
    "pattern = \"q..k\"\n",
    "match = re.search(r\"q...k\", text)\n",
    "print(match.group())"
   ],
   "metadata": {
    "collapsed": false
   }
  },
  {
   "cell_type": "code",
   "execution_count": 62,
   "outputs": [
    {
     "name": "stdout",
     "output_type": "stream",
     "text": [
      "The\n"
     ]
    }
   ],
   "source": [
    "# `^` caret matches the start of a string\n",
    "text = \"The quick brown fox jump over the lazy dog\"\n",
    "x = re.search(\"^The\", text)\n",
    "print(x.group())"
   ],
   "metadata": {
    "collapsed": false
   }
  },
  {
   "cell_type": "code",
   "execution_count": 70,
   "outputs": [
    {
     "name": "stdout",
     "output_type": "stream",
     "text": [
      "dog.\n"
     ]
    }
   ],
   "source": [
    "# `$` sign matches end of the string\n",
    "text = \"The quick brown fox jump over the lazy dog.\"\n",
    "x = re.search(\"dog\\.$\", text)\n",
    "print(x.group())"
   ],
   "metadata": {
    "collapsed": false
   }
  },
  {
   "cell_type": "code",
   "execution_count": 87,
   "outputs": [
    {
     "name": "stdout",
     "output_type": "stream",
     "text": [
      "ab\n",
      "ab\n"
     ]
    }
   ],
   "source": [
    "# `*` asterisk matches zero or more occurrences. `a` can exist or not but works.\n",
    "# `+` means one or more occurrences. Must `a` exist or not work.\n",
    "text = \"ab\"\n",
    "# text = \"b\"\n",
    "result1 = re.search(r\"a*b\", text)\n",
    "result2 = re.search(r\"a+b\", text)\n",
    "print(result1.group())\n",
    "print(result2.group())"
   ],
   "metadata": {
    "collapsed": false
   }
  },
  {
   "cell_type": "code",
   "execution_count": 94,
   "outputs": [
    {
     "name": "stdout",
     "output_type": "stream",
     "text": [
      "['color', 'colour']\n"
     ]
    }
   ],
   "source": [
    "# `?` means zero or one. `u` exist or not it will work.\n",
    "text = \"color or colour?\"\n",
    "x = re.findall(r\"colou?r\", text)\n",
    "print(x)"
   ],
   "metadata": {
    "collapsed": false
   }
  },
  {
   "cell_type": "markdown",
   "source": [],
   "metadata": {
    "collapsed": false
   }
  }
 ],
 "metadata": {
  "kernelspec": {
   "name": "venv",
   "language": "python",
   "display_name": "venv"
  },
  "language_info": {
   "codemirror_mode": {
    "name": "ipython",
    "version": 2
   },
   "file_extension": ".py",
   "mimetype": "text/x-python",
   "name": "python",
   "nbconvert_exporter": "python",
   "pygments_lexer": "ipython2",
   "version": "2.7.6"
  }
 },
 "nbformat": 4,
 "nbformat_minor": 0
}
