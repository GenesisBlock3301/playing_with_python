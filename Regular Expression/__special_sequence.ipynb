{
 "cells": [
  {
   "cell_type": "code",
   "execution_count": 3,
   "metadata": {
    "collapsed": true
   },
   "outputs": [],
   "source": [
    "import re"
   ]
  },
  {
   "cell_type": "code",
   "execution_count": 6,
   "outputs": [
    {
     "name": "stdout",
     "output_type": "stream",
     "text": [
      "['1000']\n"
     ]
    }
   ],
   "source": [
    "# `\\d` matches any digit character. `\\D` totally opposite.\n",
    "text = \"The price is $1000\"\n",
    "pattern = r\"\\d+\"\n",
    "match = re.findall(pattern, text)\n",
    "print(match)"
   ],
   "metadata": {
    "collapsed": false
   }
  },
  {
   "cell_type": "code",
   "execution_count": 9,
   "outputs": [
    {
     "name": "stdout",
     "output_type": "stream",
     "text": [
      "['The', 'price', 'is', '13r000']\n"
     ]
    }
   ],
   "source": [
    "# `\\w` matches alphanumeric character(letters & digits). `\\W` totally opposite.\n",
    "text = \"The price is $1000\"\n",
    "pattern = r\"\\w+\"\n",
    "match = re.findall(pattern, text)\n",
    "print(match)"
   ],
   "metadata": {
    "collapsed": false
   }
  },
  {
   "cell_type": "code",
   "execution_count": 11,
   "outputs": [
    {
     "name": "stdout",
     "output_type": "stream",
     "text": [
      "[' ', ' ', ' ']\n"
     ]
    }
   ],
   "source": [
    "# `\\s` matches any whitespace.\n",
    "text = \"The price is $1000\"\n",
    "pattern = r\"\\s+\"\n",
    "match = re.findall(pattern, text)\n",
    "print(match)"
   ],
   "metadata": {
    "collapsed": false
   }
  },
  {
   "cell_type": "code",
   "execution_count": 13,
   "outputs": [
    {
     "name": "stdout",
     "output_type": "stream",
     "text": [
      "['is', 'is']\n"
     ]
    }
   ],
   "source": [
    "# `\\b` matches a word boundary.\n",
    "text = \"The price is is $1000\"\n",
    "pattern = r\"\\bis\\b\"\n",
    "match = re.findall(pattern, text)\n",
    "print(match)"
   ],
   "metadata": {
    "collapsed": false
   }
  },
  {
   "cell_type": "code",
   "execution_count": 16,
   "outputs": [
    {
     "name": "stdout",
     "output_type": "stream",
     "text": [
      "['The']\n"
     ]
    }
   ],
   "source": [
    "# `\\A` matches beginning of a string.\n",
    "text = \"The price is is $1000\"\n",
    "pattern = r\"\\AThe\" # \\Ais not work.\n",
    "match = re.findall(pattern, text)\n",
    "print(match)"
   ],
   "metadata": {
    "collapsed": false
   }
  },
  {
   "cell_type": "code",
   "execution_count": 21,
   "outputs": [
    {
     "name": "stdout",
     "output_type": "stream",
     "text": [
      "['1000']\n"
     ]
    }
   ],
   "source": [
    "# `\\Z` matches end of a string.\n",
    "text = \"The price is is $1000\"\n",
    "pattern = r\"1000\\Z\" # \\Ais not work.\n",
    "match = re.findall(pattern, text)\n",
    "print(match)"
   ],
   "metadata": {
    "collapsed": false
   }
  },
  {
   "cell_type": "code",
   "execution_count": null,
   "outputs": [],
   "source": [],
   "metadata": {
    "collapsed": false
   }
  }
 ],
 "metadata": {
  "kernelspec": {
   "name": "venv",
   "language": "python",
   "display_name": "venv"
  },
  "language_info": {
   "codemirror_mode": {
    "name": "ipython",
    "version": 2
   },
   "file_extension": ".py",
   "mimetype": "text/x-python",
   "name": "python",
   "nbconvert_exporter": "python",
   "pygments_lexer": "ipython2",
   "version": "2.7.6"
  }
 },
 "nbformat": 4,
 "nbformat_minor": 0
}
