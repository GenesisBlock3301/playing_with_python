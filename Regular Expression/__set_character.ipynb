{
 "cells": [
  {
   "cell_type": "code",
   "execution_count": 4,
   "metadata": {
    "collapsed": true
   },
   "outputs": [],
   "source": [
    "import re"
   ]
  },
  {
   "cell_type": "code",
   "execution_count": 3,
   "outputs": [
    {
     "name": "stdout",
     "output_type": "stream",
     "text": [
      "['e', 'u', 'i', 'o', 'o', 'u', 'o', 'e', 'e', 'a', 'o']\n"
     ]
    }
   ],
   "source": [
    "# matches vowels `[aeiouAEIOU]`\n",
    "text = \"The quick brown fox jump over the lazy dog.\"\n",
    "pattern = r'[aeiou]'\n",
    "matches = re.findall(pattern, text)\n",
    "print(matches)"
   ],
   "metadata": {
    "collapsed": false
   }
  },
  {
   "cell_type": "code",
   "execution_count": 5,
   "outputs": [
    {
     "name": "stdout",
     "output_type": "stream",
     "text": [
      "['1', '0', '0', '0']\n"
     ]
    }
   ],
   "source": [
    "# match any digit `[0-9]`\n",
    "text = \"The price is is $1000\"\n",
    "pattern = r\"[0-9]\" # \\Ais not work.\n",
    "match = re.findall(pattern, text)\n",
    "print(match)"
   ],
   "metadata": {
    "collapsed": false
   }
  },
  {
   "cell_type": "code",
   "execution_count": 8,
   "outputs": [
    {
     "name": "stdout",
     "output_type": "stream",
     "text": [
      "['T', 'h', 'e', 'p', 'r', 'i', 'c', 'e', 'i', 's', 'i', 's']\n"
     ]
    }
   ],
   "source": [
    "# match any digit which is not `[0-9]`. select those value, which are in pattern.^ means not here.\n",
    "text = \"The price is is $1000\"\n",
    "pattern = r\"[^0-9$ ]\" # \\Ais not work.\n",
    "match = re.findall(pattern, text)\n",
    "print(match)"
   ],
   "metadata": {
    "collapsed": false
   }
  },
  {
   "cell_type": "code",
   "execution_count": 9,
   "outputs": [
    {
     "name": "stdout",
     "output_type": "stream",
     "text": [
      "['T', 'h', 'e', 'p', 'r', 'i', 'c', 'e', 'i', 's', 'i', 's', '1', '0', '0', '0']\n"
     ]
    }
   ],
   "source": [
    "# match any alphanumeric character `[a-zA-Z0-9]`\n",
    "text = \"The price is is $1000\"\n",
    "pattern = r\"[a-zA-Z0-9]\" # \\Ais not work.\n",
    "match = re.findall(pattern, text)\n",
    "print(match)"
   ],
   "metadata": {
    "collapsed": false
   }
  },
  {
   "cell_type": "code",
   "execution_count": 22,
   "outputs": [
    {
     "name": "stdout",
     "output_type": "stream",
     "text": [
      "['y', 'g', 'm', 'a', 'i', 'l', 'i', 's', 'n', 'a', 's', '@', 'g', 'm', 'a', 'i', 'l', '.', 'c', 'o', 'm', 'n', 'a', 's', '@', 'g', 'm', 'a', 'i', 'l', '.', 'c', 'o', 'm']\n"
     ]
    }
   ],
   "source": [
    "#Find gmail nas@gmail.com\n",
    "text = \"My gmail is nas@gmail.com nas1@gmail.com\"\n",
    "pattern = r'[a-z@a-z.com]'\n",
    "matches = re.findall(pattern, text)\n",
    "# print(\"\".join(matches))\n",
    "print(matches)"
   ],
   "metadata": {
    "collapsed": false
   }
  },
  {
   "cell_type": "code",
   "execution_count": null,
   "outputs": [],
   "source": [],
   "metadata": {
    "collapsed": false
   }
  }
 ],
 "metadata": {
  "kernelspec": {
   "name": "venv",
   "language": "python",
   "display_name": "venv"
  },
  "language_info": {
   "codemirror_mode": {
    "name": "ipython",
    "version": 2
   },
   "file_extension": ".py",
   "mimetype": "text/x-python",
   "name": "python",
   "nbconvert_exporter": "python",
   "pygments_lexer": "ipython2",
   "version": "2.7.6"
  }
 },
 "nbformat": 4,
 "nbformat_minor": 0
}
